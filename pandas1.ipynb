{
 "cells": [
  {
   "cell_type": "code",
   "execution_count": null,
   "metadata": {},
   "outputs": [
    {
     "ename": "",
     "evalue": "",
     "output_type": "error",
     "traceback": [
      "\u001b[1;31mRunning cells with 'c:\\Users\\cristian.santivanez\\AppData\\Local\\Microsoft\\WindowsApps\\python3.11.exe' requires the ipykernel package.\n",
      "\u001b[1;31mRun the following command to install 'ipykernel' into the Python environment. \n",
      "\u001b[1;31mCommand: 'c:/Users/cristian.santivanez/AppData/Local/Microsoft/WindowsApps/python3.11.exe -m pip install ipykernel -U --user --force-reinstall'"
     ]
    }
   ],
   "source": [
    "import gspread\n",
    "from oauth2client.service_account import ServiceAccountCredentials\n",
    "\n",
    "# Ruta al archivo JSON de credenciales\n",
    "credenciales = 'client_secret_251742362079-8s89rnc0gnnvqfa25svoqubog839na2p.apps.googleusercontent.com.json'\n",
    "\n",
    "# Alcance de las credenciales\n",
    "scope = ['https://spreadsheets.google.com/feeds', 'https://www.googleapis.com/auth/drive']\n",
    "\n",
    "# Autenticar con las credenciales\n",
    "creds = ServiceAccountCredentials.from_json_keyfile_name(credenciales, scope)\n",
    "cliente = gspread.authorize(creds)\n",
    "\n",
    "# ID del book de cálculo que deseas abrir\n",
    "id_book = \"1HT-F8_icfvCtJecIYY49OymM_K6IQFZ3uNk6kPG4wo4\"\n",
    "\n",
    "# Abre la book de cálculo por su ID\n",
    "book = cliente.open_by_key(id_book)\n",
    "\n",
    "# Seleccionar una book específica en la book de cálculo\n",
    "sheet_name = \"DB\"\n",
    "sheet = book.worksheet(sheet_name)\n",
    "\n",
    "# Ejemplo: Leer datos de la book\n",
    "datos = sheet.get_all_records()\n",
    "print(\"Datos de la book:\")\n",
    "print(datos)\n",
    "\n",
    "# Ejemplo: Escribir datos en la book\n",
    "nuevos_datos = [\n",
    "    [\"Nombre\", \"Edad\"],\n",
    "    [\"Alice\", 30],\n",
    "    [\"Bob\", 25]\n",
    "]\n",
    "sheet.insert_rows(nuevos_datos, 2)\n",
    "\n",
    "print(\"Datos actualizados en la book.\")\n",
    "\n",
    "# Ejemplo: Realizar otras operaciones según tus necesidades\n",
    "\n",
    "# Por último, para manejar excepciones y errores, puedes agregar bloques try-except según sea necesario.\n",
    "\n",
    "# Cierra la book de cálculo si es necesario\n",
    "# sheet = None\n",
    "# book = None\n"
   ]
  }
 ],
 "metadata": {
  "kernelspec": {
   "display_name": "Python 3",
   "language": "python",
   "name": "python3"
  },
  "language_info": {
   "name": "python",
   "version": "3.11.6"
  }
 },
 "nbformat": 4,
 "nbformat_minor": 2
}
